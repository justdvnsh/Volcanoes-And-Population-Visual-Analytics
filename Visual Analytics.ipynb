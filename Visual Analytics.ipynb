{
 "cells": [
  {
   "cell_type": "code",
   "execution_count": 3,
   "metadata": {
    "collapsed": true
   },
   "outputs": [],
   "source": [
    "import folium\n",
    "import pandas\n",
    "\n",
    "data = pandas.read_csv(\"volcano.csv\")\n",
    "\n",
    "lat = list(data[\"Latitude\"])\n",
    "long = list(data[\"Longitude\"])\n",
    "risk = list(data[\"risk\"])\n",
    "\n",
    "def color_producer(risk):\n",
    "\tif risk == 1 or risk == 2:\n",
    "\t\treturn 'orange'\n",
    "\telif risk >= 3:\n",
    "\t\treturn 'red'\n",
    "\telse:\n",
    "\t\treturn 'green'\n",
    "\n",
    "map = folium.Map([38.58, -99.09], zoom_start=6, tiles=\"Mapbox Bright\")\n",
    "\n",
    "fgv = folium.FeatureGroup(name=\"Volcanoes\")\n",
    "\n",
    "for i,j,k in zip(lat, long, risk):\n",
    "\tfgv.add_child(folium.Marker(location=[i,j], popup=\"Risk Factor: \" + str(k), icon=folium.Icon(color=color_producer(k))))\n",
    "\n",
    "fgp = folium.FeatureGroup(name=\"Population\")\n",
    "\n",
    "fgp.add_child(folium.GeoJson(data=open('world.json', encoding='utf-8-sig').read(),\n",
    "style_function=lambda x: {'fillColor':'green' if x['properties']['POP2005'] < 10000000\n",
    "else 'orange' if 10000000 <= x['properties']['POP2005'] < 20000000 else 'red'}))\n",
    "\n",
    "map.add_child(fgv)\n",
    "map.add_child(fgp)\n",
    "\n",
    "map.add_child(folium.LayerControl())\n",
    "\n",
    "map.save('map.html')\n"
   ]
  }
 ],
 "metadata": {
  "kernelspec": {
   "display_name": "Python 3",
   "language": "python",
   "name": "python3"
  },
  "language_info": {
   "codemirror_mode": {
    "name": "ipython",
    "version": 3
   },
   "file_extension": ".py",
   "mimetype": "text/x-python",
   "name": "python",
   "nbconvert_exporter": "python",
   "pygments_lexer": "ipython3",
   "version": "3.5.3"
  }
 },
 "nbformat": 4,
 "nbformat_minor": 2
}
